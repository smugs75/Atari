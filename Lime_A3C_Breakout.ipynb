{
 "cells": [
  {
   "cell_type": "code",
   "execution_count": 164,
   "metadata": {},
   "outputs": [],
   "source": [
    "from __future__ import print_function\n",
    "import torch, os, gym, time, glob, argparse, sys\n",
    "import numpy as np\n",
    "from scipy.signal import lfilter\n",
    "from scipy.misc import imresize # preserves single-pixel info _unlike_ img = img[::2,::2]\n",
    "import torch.nn as nn\n",
    "import torch.nn.functional as F\n",
    "import torch.multiprocessing as mp\n",
    "from torch.autograd import Variable\n",
    "import matplotlib.pyplot as plt\n",
    "from tqdm import tqdm\n",
    "%matplotlib inline"
   ]
  },
  {
   "cell_type": "markdown",
   "metadata": {},
   "source": [
    "# Agent"
   ]
  },
  {
   "cell_type": "code",
   "execution_count": 151,
   "metadata": {},
   "outputs": [],
   "source": [
    "class NNPolicy(torch.nn.Module): # an actor-critic neural network\n",
    "    def __init__(self, channels, num_actions):\n",
    "        super(NNPolicy, self).__init__()\n",
    "        self.conv1 = nn.Conv2d(channels, 32, 3, stride=2, padding=1)\n",
    "        self.conv2 = nn.Conv2d(32, 32, 3, stride=2, padding=1)\n",
    "        self.conv3 = nn.Conv2d(32, 32, 3, stride=2, padding=1)\n",
    "        self.conv4 = nn.Conv2d(32, 32, 3, stride=2, padding=1)\n",
    "        self.lstm = nn.LSTMCell(32 * 5 * 5, 256)\n",
    "        self.critic_linear, self.actor_linear = nn.Linear(256, 1), nn.Linear(256, num_actions)\n",
    "        self.hx = Variable(torch.zeros(1, 256))\n",
    "        self.cx = Variable(torch.zeros(1, 256))\n",
    "        \n",
    "\n",
    "    def forward(self, inputs):\n",
    "        inputs = inputs\n",
    "        x = F.elu(self.conv1(inputs))\n",
    "        x = F.elu(self.conv2(x))\n",
    "        x = F.elu(self.conv3(x))\n",
    "        x = F.elu(self.conv4(x))\n",
    "        x = x.view(-1, 32 * 5 * 5)\n",
    "        self.hx, self.cx = self.lstm(x, (self.hx, self.cx))\n",
    "        return self.critic_linear(self.hx), self.actor_linear(self.hx)\n",
    "\n",
    "    def try_load(self, save_dir, checkpoint='*.tar'):\n",
    "        paths = glob.glob(save_dir + checkpoint) ; step = 0\n",
    "        if len(paths) > 0:\n",
    "            ckpts = [int(s.split('.')[-2]) for s in paths]\n",
    "            ix = np.argmax(ckpts) ; step = ckpts[ix]\n",
    "            self.load_state_dict(torch.load(paths[ix]))\n",
    "        print(\"\\tno saved models\") if step is 0 else print(\"\\tloaded model: {}\".format(paths[ix]))\n",
    "        return step\n",
    "       \n",
    "    \n",
    "    def predict(self, X):\n",
    "        res = np.zeros((X.shape[0], 4))\n",
    "        for i, x in enumerate(X):\n",
    "            x = imresize(x[35:195].mean(2), (80,80)).astype(np.float32).reshape(1,80,80)/255.\n",
    "            x = torch.tensor(x)\n",
    "            value, logit = self(x.view(1,1,80,80))\n",
    "            logp = F.log_softmax(logit, dim=-1)\n",
    "            res[i,:] = torch.exp(logp).data.numpy()\n",
    "        return res"
   ]
  },
  {
   "cell_type": "markdown",
   "metadata": {},
   "source": [
    "# Env"
   ]
  },
  {
   "cell_type": "code",
   "execution_count": 152,
   "metadata": {},
   "outputs": [
    {
     "name": "stdout",
     "output_type": "stream",
     "text": [
      "\tloaded model: weights\\strong.40.tar\n"
     ]
    }
   ],
   "source": [
    "save_dir =\"weights/\"\n",
    "env = gym.make('Breakout-v4')\n",
    "np.random.seed(123)\n",
    "env.seed(123)\n",
    "num_actions = env.action_space.n # get the action space of this game\n",
    "\n",
    "model = NNPolicy(channels=1, num_actions=num_actions)\n",
    "model.try_load(save_dir)\n",
    "state = env.reset()"
   ]
  },
  {
   "cell_type": "markdown",
   "metadata": {},
   "source": [
    "## Test"
   ]
  },
  {
   "cell_type": "code",
   "execution_count": 160,
   "metadata": {},
   "outputs": [
    {
     "name": "stderr",
     "output_type": "stream",
     "text": [
      "C:\\Users\\User\\Anaconda3\\envs\\RL_vizu\\lib\\site-packages\\ipykernel_launcher.py:52: DeprecationWarning: `imresize` is deprecated!\n",
      "`imresize` is deprecated in SciPy 1.0.0, and will be removed in 1.2.0.\n",
      "Use ``skimage.transform.resize`` instead.\n"
     ]
    }
   ],
   "source": [
    "from lime import lime_image\n",
    "from skimage.segmentation import mark_boundaries\n",
    "\n",
    "state = env.reset()\n",
    "explainer = lime_image.LimeImageExplainer()\n",
    "explanation = explainer.explain_instance(state, model.predict, top_labels=1, hide_color=0, num_samples=1000)\n",
    "action = np.argmax(model.predict(np.expand_dims(state, axis=0))[0])\n",
    "temp, mask = explanation.get_image_and_mask(action, positive_only=True, num_features=10, hide_rest=False)\n",
    "plt.figure(figsize=(10,10))\n",
    "plt.imshow(mark_boundaries(temp /255, mask))"
   ]
  },
  {
   "cell_type": "markdown",
   "metadata": {},
   "source": [
    "from IPython import display\n",
    "current_state = env.reset()\n",
    "img = plt.imshow(current_state)\n",
    "for i in tqdm(range(1000)):\n",
    "    x = np.expand_dims(current_state, axis=0)\n",
    "    action = np.argmax(model.predict(x)[0])\n",
    "    current_state, reward, done, _ = env.step(action)\n",
    "    img.set_data(current_state)\n",
    "    display.display(plt.gcf())\n",
    "    display.clear_output(wait=True)"
   ]
  },
  {
   "cell_type": "markdown",
   "metadata": {},
   "source": [
    "# Boucle"
   ]
  },
  {
   "cell_type": "code",
   "execution_count": null,
   "metadata": {},
   "outputs": [
    {
     "name": "stderr",
     "output_type": "stream",
     "text": [
      "\n",
      "\n",
      "\n",
      "\n",
      "  0%|          | 0/20 [00:00<?, ?it/s]C:\\Users\\User\\Anaconda3\\envs\\RL_vizu\\lib\\site-packages\\ipykernel_launcher.py:52: DeprecationWarning: `imresize` is deprecated!\n",
      "`imresize` is deprecated in SciPy 1.0.0, and will be removed in 1.2.0.\n",
      "Use ``skimage.transform.resize`` instead.\n"
     ]
    },
    {
     "name": "stdout",
     "output_type": "stream",
     "text": [
      "2\n"
     ]
    },
    {
     "name": "stderr",
     "output_type": "stream",
     "text": [
      "\n",
      "\n",
      "\n",
      "\n",
      "  5%|▌         | 1/20 [00:43<13:43, 43.35s/it]C:\\Users\\User\\Anaconda3\\envs\\RL_vizu\\lib\\site-packages\\ipykernel_launcher.py:52: DeprecationWarning: `imresize` is deprecated!\n",
      "`imresize` is deprecated in SciPy 1.0.0, and will be removed in 1.2.0.\n",
      "Use ``skimage.transform.resize`` instead.\n"
     ]
    },
    {
     "name": "stdout",
     "output_type": "stream",
     "text": [
      "2\n"
     ]
    },
    {
     "name": "stderr",
     "output_type": "stream",
     "text": [
      "\n",
      "\n",
      "\n",
      "\n",
      " 10%|█         | 2/20 [01:26<12:57, 43.21s/it]C:\\Users\\User\\Anaconda3\\envs\\RL_vizu\\lib\\site-packages\\ipykernel_launcher.py:52: DeprecationWarning: `imresize` is deprecated!\n",
      "`imresize` is deprecated in SciPy 1.0.0, and will be removed in 1.2.0.\n",
      "Use ``skimage.transform.resize`` instead.\n"
     ]
    },
    {
     "name": "stdout",
     "output_type": "stream",
     "text": [
      "3\n"
     ]
    },
    {
     "name": "stderr",
     "output_type": "stream",
     "text": [
      "\n",
      "\n",
      "\n",
      "\n",
      " 15%|█▌        | 3/20 [02:12<12:29, 44.08s/it]C:\\Users\\User\\Anaconda3\\envs\\RL_vizu\\lib\\site-packages\\ipykernel_launcher.py:52: DeprecationWarning: `imresize` is deprecated!\n",
      "`imresize` is deprecated in SciPy 1.0.0, and will be removed in 1.2.0.\n",
      "Use ``skimage.transform.resize`` instead.\n"
     ]
    },
    {
     "name": "stdout",
     "output_type": "stream",
     "text": [
      "1\n"
     ]
    },
    {
     "name": "stderr",
     "output_type": "stream",
     "text": [
      "\n",
      "\n",
      "\n",
      "\n",
      " 20%|██        | 4/20 [02:59<11:58, 44.91s/it]C:\\Users\\User\\Anaconda3\\envs\\RL_vizu\\lib\\site-packages\\ipykernel_launcher.py:52: DeprecationWarning: `imresize` is deprecated!\n",
      "`imresize` is deprecated in SciPy 1.0.0, and will be removed in 1.2.0.\n",
      "Use ``skimage.transform.resize`` instead.\n"
     ]
    },
    {
     "name": "stdout",
     "output_type": "stream",
     "text": [
      "3\n"
     ]
    },
    {
     "name": "stderr",
     "output_type": "stream",
     "text": [
      "\n",
      "\n",
      "\n",
      "\n",
      " 25%|██▌       | 5/20 [03:50<11:42, 46.86s/it]C:\\Users\\User\\Anaconda3\\envs\\RL_vizu\\lib\\site-packages\\ipykernel_launcher.py:52: DeprecationWarning: `imresize` is deprecated!\n",
      "`imresize` is deprecated in SciPy 1.0.0, and will be removed in 1.2.0.\n",
      "Use ``skimage.transform.resize`` instead.\n"
     ]
    },
    {
     "name": "stdout",
     "output_type": "stream",
     "text": [
      "3\n"
     ]
    },
    {
     "name": "stderr",
     "output_type": "stream",
     "text": [
      "\n",
      "\n",
      "\n",
      "\n",
      " 30%|███       | 6/20 [04:44<11:24, 48.86s/it]C:\\Users\\User\\Anaconda3\\envs\\RL_vizu\\lib\\site-packages\\ipykernel_launcher.py:52: DeprecationWarning: `imresize` is deprecated!\n",
      "`imresize` is deprecated in SciPy 1.0.0, and will be removed in 1.2.0.\n",
      "Use ``skimage.transform.resize`` instead.\n"
     ]
    },
    {
     "name": "stdout",
     "output_type": "stream",
     "text": [
      "2\n"
     ]
    },
    {
     "name": "stderr",
     "output_type": "stream",
     "text": [
      "\n",
      "\n",
      "\n",
      "\n",
      " 35%|███▌      | 7/20 [05:40<11:02, 50.99s/it]C:\\Users\\User\\Anaconda3\\envs\\RL_vizu\\lib\\site-packages\\ipykernel_launcher.py:52: DeprecationWarning: `imresize` is deprecated!\n",
      "`imresize` is deprecated in SciPy 1.0.0, and will be removed in 1.2.0.\n",
      "Use ``skimage.transform.resize`` instead.\n"
     ]
    },
    {
     "name": "stdout",
     "output_type": "stream",
     "text": [
      "3\n"
     ]
    },
    {
     "name": "stderr",
     "output_type": "stream",
     "text": [
      "\n",
      "\n",
      "\n",
      "\n",
      " 40%|████      | 8/20 [06:34<10:23, 51.96s/it]C:\\Users\\User\\Anaconda3\\envs\\RL_vizu\\lib\\site-packages\\ipykernel_launcher.py:52: DeprecationWarning: `imresize` is deprecated!\n",
      "`imresize` is deprecated in SciPy 1.0.0, and will be removed in 1.2.0.\n",
      "Use ``skimage.transform.resize`` instead.\n"
     ]
    },
    {
     "name": "stdout",
     "output_type": "stream",
     "text": [
      "1\n"
     ]
    },
    {
     "name": "stderr",
     "output_type": "stream",
     "text": [
      "\n",
      "\n",
      "\n",
      "\n",
      " 45%|████▌     | 9/20 [07:33<09:56, 54.24s/it]C:\\Users\\User\\Anaconda3\\envs\\RL_vizu\\lib\\site-packages\\ipykernel_launcher.py:52: DeprecationWarning: `imresize` is deprecated!\n",
      "`imresize` is deprecated in SciPy 1.0.0, and will be removed in 1.2.0.\n",
      "Use ``skimage.transform.resize`` instead.\n"
     ]
    },
    {
     "name": "stdout",
     "output_type": "stream",
     "text": [
      "3\n"
     ]
    },
    {
     "name": "stderr",
     "output_type": "stream",
     "text": [
      "\n",
      "\n",
      "\n",
      "\n",
      " 50%|█████     | 10/20 [08:36<09:26, 56.66s/it]C:\\Users\\User\\Anaconda3\\envs\\RL_vizu\\lib\\site-packages\\ipykernel_launcher.py:52: DeprecationWarning: `imresize` is deprecated!\n",
      "`imresize` is deprecated in SciPy 1.0.0, and will be removed in 1.2.0.\n",
      "Use ``skimage.transform.resize`` instead.\n"
     ]
    },
    {
     "name": "stdout",
     "output_type": "stream",
     "text": [
      "2\n"
     ]
    },
    {
     "name": "stderr",
     "output_type": "stream",
     "text": [
      "\n",
      "\n",
      "\n",
      "\n",
      " 55%|█████▌    | 11/20 [09:39<08:49, 58.79s/it]C:\\Users\\User\\Anaconda3\\envs\\RL_vizu\\lib\\site-packages\\ipykernel_launcher.py:52: DeprecationWarning: `imresize` is deprecated!\n",
      "`imresize` is deprecated in SciPy 1.0.0, and will be removed in 1.2.0.\n",
      "Use ``skimage.transform.resize`` instead.\n"
     ]
    },
    {
     "name": "stdout",
     "output_type": "stream",
     "text": [
      "3\n"
     ]
    },
    {
     "name": "stderr",
     "output_type": "stream",
     "text": [
      "\n",
      "\n",
      "\n",
      "\n",
      " 60%|██████    | 12/20 [10:49<08:15, 61.97s/it]C:\\Users\\User\\Anaconda3\\envs\\RL_vizu\\lib\\site-packages\\ipykernel_launcher.py:52: DeprecationWarning: `imresize` is deprecated!\n",
      "`imresize` is deprecated in SciPy 1.0.0, and will be removed in 1.2.0.\n",
      "Use ``skimage.transform.resize`` instead.\n"
     ]
    },
    {
     "name": "stdout",
     "output_type": "stream",
     "text": [
      "2\n"
     ]
    }
   ],
   "source": [
    "current_state = env.reset()\n",
    "for i in tqdm(range(20)):\n",
    "    x = np.expand_dims(current_state, axis=0)\n",
    "    action = np.argmax(model.predict(x)[0])\n",
    "    print(action)\n",
    "    explanation = explainer.explain_instance(current_state, model.predict, top_labels=4, hide_color=0, num_samples=1000)\n",
    "    temp, mask = explanation.get_image_and_mask(action, positive_only=True, num_features=5, hide_rest=False)\n",
    "    current_state, reward, done, _ = env.step(action)\n",
    "    \n",
    "    plt.figure(figsize=(10,10))\n",
    "    plt.imshow(mark_boundaries(temp /255, mask))\n",
    "    #env.render()"
   ]
  },
  {
   "cell_type": "code",
   "execution_count": null,
   "metadata": {},
   "outputs": [],
   "source": []
  }
 ],
 "metadata": {
  "kernelspec": {
   "display_name": "Python 3",
   "language": "python",
   "name": "python3"
  },
  "language_info": {
   "codemirror_mode": {
    "name": "ipython",
    "version": 3
   },
   "file_extension": ".py",
   "mimetype": "text/x-python",
   "name": "python",
   "nbconvert_exporter": "python",
   "pygments_lexer": "ipython3",
   "version": "3.6.6"
  }
 },
 "nbformat": 4,
 "nbformat_minor": 2
}
