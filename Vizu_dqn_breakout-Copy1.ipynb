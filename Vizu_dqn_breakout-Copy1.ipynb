{
 "cells": [
  {
   "cell_type": "code",
   "execution_count": 1,
   "metadata": {},
   "outputs": [
    {
     "name": "stderr",
     "output_type": "stream",
     "text": [
      "Using TensorFlow backend.\n"
     ]
    }
   ],
   "source": [
    "import gym\n",
    "import random\n",
    "import os\n",
    "import numpy as np\n",
    "import matplotlib.pyplot as plt\n",
    "from PIL import Image\n",
    "%matplotlib inline\n",
    "from collections      import deque\n",
    "from keras.models     import Sequential\n",
    "from keras.layers     import Dense, Activation, Conv2D, Input, Lambda, Flatten, Permute\n",
    "from keras.optimizers import Adam, SGD, RMSprop\n",
    "import keras.backend as K\n",
    "from tqdm import tqdm\n",
    "import cv2"
   ]
  },
  {
   "cell_type": "markdown",
   "metadata": {},
   "source": [
    "# Agent"
   ]
  },
  {
   "cell_type": "code",
   "execution_count": 2,
   "metadata": {},
   "outputs": [],
   "source": [
    "INPUT_SHAPE = (84, 84)\n",
    "WINDOW_LENGTH = 4\n",
    "\n",
    "class Agent():\n",
    "    \n",
    "    def __init__(self, state_size, action_size, weights=None):\n",
    "        \n",
    "        self.env = env\n",
    "        self.state_size = state_size\n",
    "        self.action_size = action_size\n",
    "        self.model = self.build_model()\n",
    "                   \n",
    "    \n",
    "        self.current_state = []\n",
    "            \n",
    "        \n",
    "    def build_model(self):\n",
    "        \n",
    "        input_shape = (WINDOW_LENGTH,) + INPUT_SHAPE\n",
    "        model = Sequential()\n",
    "\n",
    "        # (width, height, channels)\n",
    "        model.add(Permute((2, 3, 1), input_shape=input_shape))\n",
    "        model.add(Conv2D(32, (8, 8), strides=(4, 4)))\n",
    "        model.add(Activation('relu'))\n",
    "        model.add(Conv2D(64, (4, 4), strides=(2, 2)))\n",
    "        model.add(Activation('relu'))\n",
    "        model.add(Conv2D(64, (3, 3), strides=(1, 1)))\n",
    "        model.add(Activation('relu'))\n",
    "        model.add(Flatten())\n",
    "        model.add(Dense(512))\n",
    "        model.add(Activation('relu'))\n",
    "        model.add(Dense(self.action_size))\n",
    "        model.add(Activation('linear'))\n",
    "        print(model.summary())\n",
    "        return model\n",
    "    \n",
    "    def process_observation(self, observation):\n",
    "        assert observation.ndim == 3  # (height, width, channel)\n",
    "        img = Image.fromarray(observation)\n",
    "        img = img.resize(INPUT_SHAPE).convert('L')  # resize and convert to grayscale\n",
    "        processed_observation = np.array(img)\n",
    "        assert processed_observation.shape == INPUT_SHAPE\n",
    "        return processed_observation.astype('uint8')  # saves storage in experience memory\n",
    "\n",
    "    def process_state_batch(self, batch):\n",
    "        # We could perform this processing step in `process_observation`. In this case, however,\n",
    "        # we would need to store a `float32` array instead, which is 4x more memory intensive than\n",
    "        # an `uint8` array. This matters if we store 1M observations.\n",
    "        processed_batch = batch.astype('float32') / 255.\n",
    "        return processed_batch\n",
    "        \n",
    "    \n",
    "    def next_action(self, state):\n",
    "        actions = self.model.predict(state)[0]\n",
    "        return np.argmax(actions)\n",
    "     "
   ]
  },
  {
   "cell_type": "code",
   "execution_count": 3,
   "metadata": {},
   "outputs": [],
   "source": [
    "INPUT_SHAPE = (84, 84)\n",
    "WINDOW_LENGTH = 4\n",
    "\n",
    "class Agent():\n",
    "    \n",
    "    def __init__(self, state_size, action_size, weights=None):\n",
    "        \n",
    "        self.env = env\n",
    "        self.state_size = state_size\n",
    "        self.action_size = action_size\n",
    "        self.model = self.build_model()\n",
    "                   \n",
    "    \n",
    "        self.current_state = []\n",
    "            \n",
    "        \n",
    "    def build_model(self):\n",
    "        \n",
    "        input_shape = (WINDOW_LENGTH,) + INPUT_SHAPE\n",
    "        model = Sequential()\n",
    "\n",
    "        # (width, height, channels)\n",
    "        model.add(Permute((2, 3, 1), input_shape=input_shape))\n",
    "        model.add(Conv2D(32, (8, 8), strides=(4, 4)))\n",
    "        model.add(Activation('relu'))\n",
    "        model.add(Conv2D(64, (4, 4), strides=(2, 2)))\n",
    "        model.add(Activation('relu'))\n",
    "        model.add(Conv2D(64, (3, 3), strides=(1, 1)))\n",
    "        model.add(Activation('relu'))\n",
    "        model.add(Flatten())\n",
    "        model.add(Dense(512))\n",
    "        model.add(Activation('relu'))\n",
    "        model.add(Dense(4))\n",
    "        model.add(Activation('linear'))\n",
    "        print(model.summary())\n",
    "        #model.summary()\n",
    "        \n",
    "        model.compile(Adam(lr=.00025), loss='mae')\n",
    "        return model\n",
    "    \n",
    "    def process_observation(self, observation):\n",
    "        assert observation.ndim == 3  # (height, width, channel)\n",
    "        img = Image.fromarray(observation)\n",
    "        img = img.resize(INPUT_SHAPE).convert('L')  # resize and convert to grayscale\n",
    "        processed_observation = np.array(img)\n",
    "        assert processed_observation.shape == INPUT_SHAPE\n",
    "        return processed_observation.astype('uint8')  # saves storage in experience memory\n",
    "\n",
    "    def process_state_batch(self, batch):\n",
    "        # We could perform this processing step in `process_observation`. In this case, however,\n",
    "        # we would need to store a `float32` array instead, which is 4x more memory intensive than\n",
    "        # an `uint8` array. This matters if we store 1M observations.\n",
    "        processed_batch = batch.astype('float32') / 255.\n",
    "        return processed_batch\n",
    "        \n",
    "    \n",
    "    def next_action(self, state):\n",
    "        actions = self.model.predict(state)[0]\n",
    "        return np.argmax(actions)\n",
    "     "
   ]
  },
  {
   "cell_type": "markdown",
   "metadata": {},
   "source": [
    "# Env"
   ]
  },
  {
   "cell_type": "code",
   "execution_count": 4,
   "metadata": {},
   "outputs": [],
   "source": [
    "env = gym.make('Breakout-v4')\n",
    "np.random.seed(123)\n",
    "env.seed(123)\n",
    "state_size = env.observation_space.shape[0]\n",
    "action_size = env.action_space.n"
   ]
  },
  {
   "cell_type": "code",
   "execution_count": 13,
   "metadata": {},
   "outputs": [],
   "source": [
    "agent = Agent(state_size, action_size)\n",
    "agent.model.load_weights(\"../Atari_RL/DQN/weights/dqn_Breakout-v4_weights_10000000.h5f\")"
   ]
  },
  {
   "cell_type": "markdown",
   "metadata": {},
   "source": [
    "# Jupyter Render"
   ]
  },
  {
   "cell_type": "code",
   "execution_count": 6,
   "metadata": {},
   "outputs": [],
   "source": [
    "actions = env.unwrapped.get_action_meanings()"
   ]
  },
  {
   "cell_type": "raw",
   "metadata": {},
   "source": [
    "# en vert\n",
    "def get_heat_map(iterate, x, state):\n",
    "    \n",
    "    pooled_grads_value, conv_layer_output_value = iterate([x])\n",
    "    for i in range(64):\n",
    "        conv_layer_output_value[:, :, i] *= pooled_grads_value[i]\n",
    "    heatmap = np.mean(conv_layer_output_value, axis=-1)\n",
    "    heatmap = np.maximum(heatmap, 0)\n",
    "    heatmap = heatmap / np.max(heatmap)\n",
    "    heatmap = cv2.resize(heatmap, (160, 210))\n",
    "    #heatmap = np.uint8(255 * heatmap)\n",
    "    #heatmap = cv2.applyColorMap(heatmap, cv2.COLORMAP_JET)\n",
    "    #superimposed_img = heatmap * 0.4 + state\n",
    "    heatmap *= 255\n",
    "    state[:,:,1] = heatmap * 0.5 + state[:,:,1]\n",
    "    \n",
    "    return state "
   ]
  },
  {
   "cell_type": "code",
   "execution_count": 7,
   "metadata": {},
   "outputs": [],
   "source": [
    "def get_heat_map_gradient(iterate, x, state):\n",
    "    \n",
    "    pooled_grads_value, conv_layer_output_value = iterate([x])\n",
    "    for i in range(64):\n",
    "        conv_layer_output_value[:, :, i] *= pooled_grads_value[i]\n",
    "    a = np.max(conv_layer_output_value)\n",
    "    heatmap = np.mean(conv_layer_output_value, axis=-1)\n",
    "    heatmap = np.maximum(heatmap, 0)\n",
    "    heatmap = heatmap / np.max(heatmap)\n",
    "    heatmap = cv2.resize(heatmap, (160, 210))\n",
    "    heatmap = np.uint8(255 * heatmap)\n",
    "    heatmap = cv2.applyColorMap(heatmap, cv2.COLORMAP_HOT)\n",
    "    superimposed_img = heatmap * a * 20 + state\n",
    "    return superimposed_img / 255"
   ]
  },
  {
   "cell_type": "code",
   "execution_count": 28,
   "metadata": {},
   "outputs": [],
   "source": [
    "def get_heat_map_activation(iterate, x, state):\n",
    "    \n",
    "    pooled_grads_value, conv_layer_output_value = iterate([x])\n",
    "    \n",
    "    heatmap = np.mean(conv_layer_output_value, axis=-1)\n",
    "    #heatmap = np.maximum(heatmap, 0)\n",
    "    #heatmap = heatmap / np.max(heatmap)\n",
    "    heatmap = cv2.resize(heatmap, (160, 210))\n",
    "    heatmap = np.uint8(255 * heatmap)\n",
    "    heatmap = cv2.applyColorMap(heatmap, cv2.COLORMAP_JET)\n",
    "    superimposed_img = heatmap * 0.2 + state\n",
    "    return superimposed_img/255"
   ]
  },
  {
   "cell_type": "raw",
   "metadata": {},
   "source": [
    "def get_heat_map(iterate, x, state):\n",
    "    pooled_grads_value, conv_layer_output_value = iterate([x])\n",
    "    for i in range(64):\n",
    "        conv_layer_output_value[:, :, i] *= pooled_grads_value[i]\n",
    "    heatmap = np.mean(conv_layer_output_value, axis=-1)\n",
    "    \n",
    "    \n",
    "    heatmap = cv2.resize(heatmap, (160, 210))\n",
    "    heatmap = np.uint8(255 * heatmap)\n",
    "    heatmap = cv2.applyColorMap(heatmap, cv2.COLORMAP_HOT)\n",
    "    superimposed_img = heatmap * 0.4 + state\n",
    "    return superimposed_img / 255"
   ]
  },
  {
   "cell_type": "code",
   "execution_count": 9,
   "metadata": {},
   "outputs": [],
   "source": [
    "from IPython import display\n",
    "import matplotlib\n",
    "import matplotlib.pyplot as plt\n",
    "\n",
    "def distant_render(env, agent, state_size, nb_steps=1000):\n",
    "    \n",
    "    model = agent.model\n",
    "    iterates = []\n",
    "    for i in range(env.action_space.n):\n",
    "        predictiont_output = model.output[:, i]\n",
    "        last_conv_layer = model.get_layer('conv2d_3')\n",
    "        grads = K.gradients(predictiont_output, last_conv_layer.output)[0]\n",
    "        pooled_grads = K.mean(grads, axis=(0, 1, 2))\n",
    "        iterates.append(K.function([model.input], [pooled_grads, last_conv_layer.output[0]]))\n",
    "    \n",
    "    state_img = env.reset()\n",
    "    previous_state = state_img\n",
    "    img = plt.imshow(state_img)\n",
    "    state = agent.process_observation(state_img)\n",
    "    current_state = np.array([state, state, state, state])\n",
    "    done = False\n",
    "     # only call this once\n",
    "    for i in range(nb_steps):\n",
    "              \n",
    "        x = agent.process_state_batch(current_state)\n",
    "        x = np.expand_dims(x, axis=0)\n",
    "        action = agent.next_action(x)\n",
    "        \n",
    "        img.set_data(state_img) # just update the data\n",
    "        plt.title(actions[action])\n",
    "        display.display(plt.gcf())\n",
    "        display.clear_output(wait=True)\n",
    "        \n",
    "        next_state, reward, done, _ = env.step(action)\n",
    "        state_img = get_heat_map_gradient(iterates[action], x, previous_state)\n",
    "        previous_state = next_state\n",
    "        next_state = agent.process_observation(next_state)\n",
    "        current_state = np.insert(current_state[1:,:,:], 3, next_state, axis=0)\n",
    "        if done:\n",
    "            break\n",
    "    \n",
    "    return state_img, previous_state"
   ]
  },
  {
   "cell_type": "code",
   "execution_count": 12,
   "metadata": {},
   "outputs": [
    {
     "data": {
      "image/png": "[encoded data removed]",
      "text/plain": [
       "<Figure size 432x288 with 1 Axes>"
      ]
     },
     "metadata": {
      "needs_background": "light"
     },
     "output_type": "display_data"
    }
   ],
   "source": [
    "img, previous = distant_render(env, agent, state_size, 10)"
   ]
  },
  {
   "cell_type": "markdown",
   "metadata": {},
   "source": [
    "# Movie"
   ]
  },
  {
   "cell_type": "code",
   "execution_count": 29,
   "metadata": {},
   "outputs": [
    {
     "name": "stderr",
     "output_type": "stream",
     "text": [
      "  0%|          | 0/200 [00:00<?, ?it/s]Clipping input data to the valid range for imshow with RGB data ([0..1] for floats or [0..255] for integers).\n",
      "  1%|          | 2/200 [00:00<00:10, 18.23it/s]Clipping input data to the valid range for imshow with RGB data ([0..1] for floats or [0..255] for integers).\n",
      "  6%|▋         | 13/200 [00:00<00:07, 25.51it/s]Clipping input data to the valid range for imshow with RGB data ([0..1] for floats or [0..255] for integers).\n",
      "Clipping input data to the valid range for imshow with RGB data ([0..1] for floats or [0..255] for integers).\n",
      " 17%|█▋        | 34/200 [00:01<00:04, 34.71it/s]Clipping input data to the valid range for imshow with RGB data ([0..1] for floats or [0..255] for integers).\n",
      " 19%|█▉        | 38/200 [00:01<00:04, 35.60it/s]Clipping input data to the valid range for imshow with RGB data ([0..1] for floats or [0..255] for integers).\n",
      " 21%|██        | 42/200 [00:01<00:04, 35.47it/s]Clipping input data to the valid range for imshow with RGB data ([0..1] for floats or [0..255] for integers).\n",
      "Clipping input data to the valid range for imshow with RGB data ([0..1] for floats or [0..255] for integers).\n",
      "Clipping input data to the valid range for imshow with RGB data ([0..1] for floats or [0..255] for integers).\n",
      " 23%|██▎       | 46/200 [00:01<00:04, 34.21it/s]Clipping input data to the valid range for imshow with RGB data ([0..1] for floats or [0..255] for integers).\n",
      "Clipping input data to the valid range for imshow with RGB data ([0..1] for floats or [0..255] for integers).\n",
      "Clipping input data to the valid range for imshow with RGB data ([0..1] for floats or [0..255] for integers).\n",
      "Clipping input data to the valid range for imshow with RGB data ([0..1] for floats or [0..255] for integers).\n",
      " 25%|██▌       | 50/200 [00:01<00:04, 33.63it/s]Clipping input data to the valid range for imshow with RGB data ([0..1] for floats or [0..255] for integers).\n",
      " 27%|██▋       | 54/200 [00:01<00:04, 34.52it/s]Clipping input data to the valid range for imshow with RGB data ([0..1] for floats or [0..255] for integers).\n",
      "Clipping input data to the valid range for imshow with RGB data ([0..1] for floats or [0..255] for integers).\n",
      " 29%|██▉       | 58/200 [00:01<00:04, 33.08it/s]Clipping input data to the valid range for imshow with RGB data ([0..1] for floats or [0..255] for integers).\n",
      "Clipping input data to the valid range for imshow with RGB data ([0..1] for floats or [0..255] for integers).\n",
      " 43%|████▎     | 86/200 [00:02<00:03, 36.67it/s]Clipping input data to the valid range for imshow with RGB data ([0..1] for floats or [0..255] for integers).\n",
      " 47%|████▋     | 94/200 [00:02<00:02, 37.04it/s]Clipping input data to the valid range for imshow with RGB data ([0..1] for floats or [0..255] for integers).\n",
      "Clipping input data to the valid range for imshow with RGB data ([0..1] for floats or [0..255] for integers).\n",
      " 49%|████▉     | 98/200 [00:02<00:02, 36.26it/s]Clipping input data to the valid range for imshow with RGB data ([0..1] for floats or [0..255] for integers).\n",
      "Clipping input data to the valid range for imshow with RGB data ([0..1] for floats or [0..255] for integers).\n",
      "Clipping input data to the valid range for imshow with RGB data ([0..1] for floats or [0..255] for integers).\n",
      " 51%|█████     | 102/200 [00:02<00:02, 35.74it/s]Clipping input data to the valid range for imshow with RGB data ([0..1] for floats or [0..255] for integers).\n",
      "Clipping input data to the valid range for imshow with RGB data ([0..1] for floats or [0..255] for integers).\n",
      "Clipping input data to the valid range for imshow with RGB data ([0..1] for floats or [0..255] for integers).\n",
      "Clipping input data to the valid range for imshow with RGB data ([0..1] for floats or [0..255] for integers).\n",
      " 53%|█████▎    | 106/200 [00:03<00:02, 35.29it/s]Clipping input data to the valid range for imshow with RGB data ([0..1] for floats or [0..255] for integers).\n",
      "Clipping input data to the valid range for imshow with RGB data ([0..1] for floats or [0..255] for integers).\n",
      " 55%|█████▌    | 110/200 [00:03<00:02, 35.54it/s]Clipping input data to the valid range for imshow with RGB data ([0..1] for floats or [0..255] for integers).\n",
      "Clipping input data to the valid range for imshow with RGB data ([0..1] for floats or [0..255] for integers).\n",
      " 57%|█████▋    | 114/200 [00:03<00:02, 35.43it/s]Clipping input data to the valid range for imshow with RGB data ([0..1] for floats or [0..255] for integers).\n",
      " 61%|██████    | 122/200 [00:03<00:02, 36.11it/s]Clipping input data to the valid range for imshow with RGB data ([0..1] for floats or [0..255] for integers).\n",
      "Clipping input data to the valid range for imshow with RGB data ([0..1] for floats or [0..255] for integers).\n",
      " 63%|██████▎   | 126/200 [00:03<00:02, 35.73it/s]Clipping input data to the valid range for imshow with RGB data ([0..1] for floats or [0..255] for integers).\n",
      "Clipping input data to the valid range for imshow with RGB data ([0..1] for floats or [0..255] for integers).\n",
      "Clipping input data to the valid range for imshow with RGB data ([0..1] for floats or [0..255] for integers).\n",
      " 65%|██████▌   | 130/200 [00:03<00:01, 35.57it/s]Clipping input data to the valid range for imshow with RGB data ([0..1] for floats or [0..255] for integers).\n",
      "Clipping input data to the valid range for imshow with RGB data ([0..1] for floats or [0..255] for integers).\n",
      "Clipping input data to the valid range for imshow with RGB data ([0..1] for floats or [0..255] for integers).\n",
      " 67%|██████▋   | 134/200 [00:03<00:01, 35.54it/s]Clipping input data to the valid range for imshow with RGB data ([0..1] for floats or [0..255] for integers).\n",
      "Clipping input data to the valid range for imshow with RGB data ([0..1] for floats or [0..255] for integers).\n",
      "Clipping input data to the valid range for imshow with RGB data ([0..1] for floats or [0..255] for integers).\n",
      " 69%|██████▉   | 138/200 [00:03<00:01, 35.34it/s]Clipping input data to the valid range for imshow with RGB data ([0..1] for floats or [0..255] for integers).\n",
      " 71%|███████   | 142/200 [00:04<00:01, 35.76it/s]Clipping input data to the valid range for imshow with RGB data ([0..1] for floats or [0..255] for integers).\n",
      " 85%|████████▌ | 170/200 [00:04<00:00, 36.47it/s]Clipping input data to the valid range for imshow with RGB data ([0..1] for floats or [0..255] for integers).\n",
      "Clipping input data to the valid range for imshow with RGB data ([0..1] for floats or [0..255] for integers).\n",
      " 93%|█████████▎| 186/200 [00:05<00:00, 37.65it/s]Clipping input data to the valid range for imshow with RGB data ([0..1] for floats or [0..255] for integers).\n",
      "Clipping input data to the valid range for imshow with RGB data ([0..1] for floats or [0..255] for integers).\n",
      " 95%|█████████▌| 190/200 [00:05<00:00, 36.87it/s]Clipping input data to the valid range for imshow with RGB data ([0..1] for floats or [0..255] for integers).\n",
      "Clipping input data to the valid range for imshow with RGB data ([0..1] for floats or [0..255] for integers).\n",
      "Clipping input data to the valid range for imshow with RGB data ([0..1] for floats or [0..255] for integers).\n",
      "100%|██████████| 200/200 [00:05<00:00, 35.61it/s]\n"
     ]
    },
    {
     "data": {
      "image/png": "[encoded data removed]",
      "text/plain": [
       "<Figure size 432x288 with 1 Axes>"
      ]
     },
     "metadata": {
      "needs_background": "light"
     },
     "output_type": "display_data"
    }
   ],
   "source": [
    "import warnings\n",
    "warnings.filterwarnings('ignore')\n",
    "\n",
    "matplotlib.use(\"Agg\")\n",
    "env.seed(123)\n",
    "import matplotlib.pyplot as plt\n",
    "import matplotlib.animation as manimation\n",
    "\n",
    "FFMpegWriter = manimation.writers['ffmpeg']\n",
    "metadata = dict(title='Movie Test', artist='Matplotlib',\n",
    "                comment='Movie support!')\n",
    "writer = FFMpegWriter(fps=15, metadata=metadata)\n",
    "\n",
    "model = agent.model\n",
    "iterates = []\n",
    "for i in range(env.action_space.n):\n",
    "    predictiont_output = model.output[:, i]\n",
    "    last_conv_layer = model.get_layer('conv2d_3')\n",
    "    grads = K.gradients(predictiont_output, last_conv_layer.output)[0]\n",
    "    pooled_grads = K.mean(grads, axis=(0, 1, 2))\n",
    "    iterates.append(K.function([model.input], [pooled_grads, last_conv_layer.output[0]]))\n",
    "\n",
    "fig = plt.figure()\n",
    "state_frame = env.reset()\n",
    "state = agent.process_observation(state_frame)\n",
    "current_state = np.array([state, state, state, state])\n",
    "l = plt.imshow(np.concatenate((state_frame, state_frame), axis=1))\n",
    "done = False\n",
    "with writer.saving(fig, \"Videos\\DQN_Breackout.mp4\", 100):\n",
    "    for i in tqdm(range(200)):\n",
    "        x = agent.process_state_batch(current_state)\n",
    "        x = np.expand_dims(x, axis=0)\n",
    "        action = agent.next_action(x)\n",
    "        next_state, reward, done, _ = env.step(action)\n",
    "        frame1 = get_heat_map_activation(iterates[action], x, state_frame)\n",
    "        frame2 = get_heat_map_gradient(iterates[action], x, state_frame)\n",
    "        frame = np.concatenate((frame1, frame2), axis=1)\n",
    "        state_frame = next_state\n",
    "        next_state = agent.process_observation(next_state)\n",
    "        current_state = np.insert(current_state[1:,:,:], 3, next_state, axis=0)\n",
    "        l.set_data(frame)\n",
    "        writer.grab_frame()"
   ]
  },
  {
   "cell_type": "code",
   "execution_count": null,
   "metadata": {},
   "outputs": [],
   "source": []
  }
 ],
 "metadata": {
  "kernelspec": {
   "display_name": "Python 3",
   "language": "python",
   "name": "python3"
  },
  "language_info": {
   "codemirror_mode": {
    "name": "ipython",
    "version": 3
   },
   "file_extension": ".py",
   "mimetype": "text/x-python",
   "name": "python",
   "nbconvert_exporter": "python",
   "pygments_lexer": "ipython3",
   "version": "3.6.6"
  }
 },
 "nbformat": 4,
 "nbformat_minor": 2
}
